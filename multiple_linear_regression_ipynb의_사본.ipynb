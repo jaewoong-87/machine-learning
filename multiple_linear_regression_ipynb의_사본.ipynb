{
  "nbformat": 4,
  "nbformat_minor": 0,
  "metadata": {
    "colab": {
      "name": "multiple linear regression.ipynb의 사본",
      "provenance": [],
      "collapsed_sections": [],
      "authorship_tag": "ABX9TyMe5Hiu34qdiZq+giZvkAUO",
      "include_colab_link": true
    },
    "kernelspec": {
      "name": "python3",
      "display_name": "Python 3"
    },
    "language_info": {
      "name": "python"
    },
    "accelerator": "GPU"
  },
  "cells": [
    {
      "cell_type": "markdown",
      "metadata": {
        "id": "view-in-github",
        "colab_type": "text"
      },
      "source": [
        "<a href=\"https://colab.research.google.com/github/jaewoong-87/machine-learning/blob/main/multiple_linear_regression_ipynb%EC%9D%98_%EC%82%AC%EB%B3%B8.ipynb\" target=\"_parent\"><img src=\"https://colab.research.google.com/assets/colab-badge.svg\" alt=\"Open In Colab\"/></a>"
      ]
    },
    {
      "cell_type": "code",
      "metadata": {
        "colab": {
          "base_uri": "https://localhost:8080/",
          "height": 206
        },
        "id": "mj5IuwhxoW8P",
        "outputId": "4322efd6-bd2e-40d8-ede9-e410abdaefe2"
      },
      "source": [
        "import pandas as pd\n",
        "import numpy as np\n",
        "df = pd.read_excel(\"multiple.xlsx\")\n",
        "df.head()"
      ],
      "execution_count": 2,
      "outputs": [
        {
          "output_type": "execute_result",
          "data": {
            "text/html": [
              "<div>\n",
              "<style scoped>\n",
              "    .dataframe tbody tr th:only-of-type {\n",
              "        vertical-align: middle;\n",
              "    }\n",
              "\n",
              "    .dataframe tbody tr th {\n",
              "        vertical-align: top;\n",
              "    }\n",
              "\n",
              "    .dataframe thead th {\n",
              "        text-align: right;\n",
              "    }\n",
              "</style>\n",
              "<table border=\"1\" class=\"dataframe\">\n",
              "  <thead>\n",
              "    <tr style=\"text-align: right;\">\n",
              "      <th></th>\n",
              "      <th>concentration</th>\n",
              "      <th>Viscosity</th>\n",
              "      <th>Shear rate</th>\n",
              "      <th>Stress</th>\n",
              "    </tr>\n",
              "  </thead>\n",
              "  <tbody>\n",
              "    <tr>\n",
              "      <th>0</th>\n",
              "      <td>0.0</td>\n",
              "      <td>0.091258</td>\n",
              "      <td>0.100134</td>\n",
              "      <td>9.140117e-09</td>\n",
              "    </tr>\n",
              "    <tr>\n",
              "      <th>1</th>\n",
              "      <td>0.0</td>\n",
              "      <td>0.091336</td>\n",
              "      <td>0.158509</td>\n",
              "      <td>1.447747e-08</td>\n",
              "    </tr>\n",
              "    <tr>\n",
              "      <th>2</th>\n",
              "      <td>0.0</td>\n",
              "      <td>0.099186</td>\n",
              "      <td>0.251205</td>\n",
              "      <td>2.491573e-08</td>\n",
              "    </tr>\n",
              "    <tr>\n",
              "      <th>3</th>\n",
              "      <td>0.0</td>\n",
              "      <td>0.127202</td>\n",
              "      <td>0.398146</td>\n",
              "      <td>5.064497e-08</td>\n",
              "    </tr>\n",
              "    <tr>\n",
              "      <th>4</th>\n",
              "      <td>0.0</td>\n",
              "      <td>0.113628</td>\n",
              "      <td>0.630889</td>\n",
              "      <td>7.168370e-08</td>\n",
              "    </tr>\n",
              "  </tbody>\n",
              "</table>\n",
              "</div>"
            ],
            "text/plain": [
              "   concentration  Viscosity  Shear rate        Stress\n",
              "0            0.0   0.091258    0.100134  9.140117e-09\n",
              "1            0.0   0.091336    0.158509  1.447747e-08\n",
              "2            0.0   0.099186    0.251205  2.491573e-08\n",
              "3            0.0   0.127202    0.398146  5.064497e-08\n",
              "4            0.0   0.113628    0.630889  7.168370e-08"
            ]
          },
          "metadata": {},
          "execution_count": 2
        }
      ]
    },
    {
      "cell_type": "code",
      "metadata": {
        "id": "v6w0Qq_rpqaJ"
      },
      "source": [
        "from sklearn.model_selection import train_test_split\n",
        "x = df[['concentration']] #특성\n",
        "y = df[['Viscosity','Shear rate','Stress']] #내가 알고 싶은 값\n",
        "x_train, x_test, y_train, y_test = train_test_split(x, y, train_size=0.8, test_size=0.2, random_state=42)"
      ],
      "execution_count": 3,
      "outputs": []
    },
    {
      "cell_type": "code",
      "metadata": {
        "colab": {
          "base_uri": "https://localhost:8080/"
        },
        "id": "xh3pN2SJp-pT",
        "outputId": "7054a500-7315-4eb2-b443-233213c96770"
      },
      "source": [
        "from sklearn.linear_model import LinearRegression\n",
        "mlr = LinearRegression()\n",
        "mlr.fit(x_train, y_train) "
      ],
      "execution_count": 4,
      "outputs": [
        {
          "output_type": "execute_result",
          "data": {
            "text/plain": [
              "LinearRegression()"
            ]
          },
          "metadata": {},
          "execution_count": 4
        }
      ]
    },
    {
      "cell_type": "code",
      "metadata": {
        "colab": {
          "base_uri": "https://localhost:8080/"
        },
        "id": "ZwSYr4pBp_vL",
        "outputId": "5e5b7d22-9642-4a31-e059-729b301b514c"
      },
      "source": [
        "my_result = [[0.45]] #'concentration'\n",
        "my_predict = mlr.predict(my_result)\n",
        "print(my_predict) #각 점도, shear_rate, stress"
      ],
      "execution_count": 5,
      "outputs": [
        {
          "output_type": "stream",
          "name": "stdout",
          "text": [
            "[[2.98105809e-01 1.37920110e+02 2.11615310e-05]]\n"
          ]
        },
        {
          "output_type": "stream",
          "name": "stderr",
          "text": [
            "/usr/local/lib/python3.7/dist-packages/sklearn/base.py:446: UserWarning: X does not have valid feature names, but LinearRegression was fitted with feature names\n",
            "  \"X does not have valid feature names, but\"\n"
          ]
        }
      ]
    },
    {
      "cell_type": "code",
      "metadata": {
        "id": "HwORvLSQrVVt"
      },
      "source": [
        "y_predict = mlr.predict(x_test)"
      ],
      "execution_count": 6,
      "outputs": []
    },
    {
      "cell_type": "code",
      "metadata": {
        "colab": {
          "base_uri": "https://localhost:8080/",
          "height": 295
        },
        "id": "uwJ5EG1brW4D",
        "outputId": "3b134e9a-f09f-490d-d6f1-17f1fdc162d2"
      },
      "source": [
        "import matplotlib.pyplot as plt\n",
        "plt.scatter(y_test, y_predict, alpha=0.4)\n",
        "plt.xlabel(\"Actual viscosity\")\n",
        "plt.ylabel(\"Predicted viscosity\")\n",
        "plt.title(\"MULTIPLE LINEAR REGRESSION\")\n",
        "plt.show()"
      ],
      "execution_count": 7,
      "outputs": [
        {
          "output_type": "display_data",
          "data": {
            "image/png": "[encoded data removed]",
            "text/plain": [
              "<Figure size 432x288 with 1 Axes>"
            ]
          },
          "metadata": {
            "needs_background": "light"
          }
        }
      ]
    },
    {
      "cell_type": "code",
      "metadata": {
        "colab": {
          "base_uri": "https://localhost:8080/"
        },
        "id": "PEWjmgCFrkrr",
        "outputId": "86f71e84-1dfa-4e6d-9196-f3ca8ad70e67"
      },
      "source": [
        "print(mlr.coef_)"
      ],
      "execution_count": 8,
      "outputs": [
        {
          "output_type": "stream",
          "name": "stdout",
          "text": [
            "[[4.78245423e-01]\n",
            " [9.57477184e+00]\n",
            " [2.36532205e-05]]\n"
          ]
        }
      ]
    },
    {
      "cell_type": "code",
      "metadata": {
        "colab": {
          "base_uri": "https://localhost:8080/"
        },
        "id": "6Wmfp2x0rrT2",
        "outputId": "10612d89-8bb0-4795-a977-ed8e61d97c13"
      },
      "source": [
        "print(mlr.intercept_)"
      ],
      "execution_count": 9,
      "outputs": [
        {
          "output_type": "stream",
          "name": "stdout",
          "text": [
            "[8.28953689e-02 1.33611462e+02 1.05175818e-05]\n"
          ]
        }
      ]
    },
    {
      "cell_type": "code",
      "metadata": {
        "colab": {
          "base_uri": "https://localhost:8080/",
          "height": 279
        },
        "id": "xd4wmmOJsWjq",
        "outputId": "803dc44c-e1a2-47dc-d243-f35851dc402b"
      },
      "source": [
        "# 'concentration'과 가격 'viscosity'\n",
        "plt.scatter(df[['concentration']], df[['Viscosity']], alpha=0.4)\n",
        "plt.xlabel('con')\n",
        "plt.ylabel('vis')\n",
        "plt.show()"
      ],
      "execution_count": 10,
      "outputs": [
        {
          "output_type": "display_data",
          "data": {
            "image/png": "[encoded data removed]",
            "text/plain": [
              "<Figure size 432x288 with 1 Axes>"
            ]
          },
          "metadata": {
            "needs_background": "light"
          }
        }
      ]
    },
    {
      "cell_type": "code",
      "metadata": {
        "colab": {
          "base_uri": "https://localhost:8080/",
          "height": 280
        },
        "id": "MuxOAj1zs0Wu",
        "outputId": "342109de-f901-4703-dcf6-6877b447c728"
      },
      "source": [
        "plt.scatter(df[['Shear rate']], df[['Viscosity']], alpha=0.4)\n",
        "plt.xlabel('shear_rate')\n",
        "plt.ylabel('vis')\n",
        "plt.show()"
      ],
      "execution_count": 11,
      "outputs": [
        {
          "output_type": "display_data",
          "data": {
            "image/png": "[encoded data removed]",
            "text/plain": [
              "<Figure size 432x288 with 1 Axes>"
            ]
          },
          "metadata": {
            "needs_background": "light"
          }
        }
      ]
    },
    {
      "cell_type": "markdown",
      "metadata": {
        "id": "tMxRnwzor5MK"
      },
      "source": [
        "예측의 정확도 결과서.. 0.7보다 낮으므로 낮다. 이유 - 데이터의 불충분"
      ]
    },
    {
      "cell_type": "code",
      "metadata": {
        "colab": {
          "base_uri": "https://localhost:8080/"
        },
        "id": "rbZmee7mrvkl",
        "outputId": "c0e52fdc-dab2-47ea-cf60-3bd2a962147e"
      },
      "source": [
        "print(mlr.score(x_train, y_train))"
      ],
      "execution_count": 12,
      "outputs": [
        {
          "output_type": "stream",
          "name": "stdout",
          "text": [
            "0.14211407673970947\n"
          ]
        }
      ]
    }
  ]
}